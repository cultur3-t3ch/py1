{
  "nbformat": 4,
  "nbformat_minor": 0,
  "metadata": {
    "colab": {
      "provenance": [],
      "authorship_tag": "ABX9TyNunNPUZMWMwp892rIcBD6M",
      "include_colab_link": true
    },
    "kernelspec": {
      "name": "python3",
      "display_name": "Python 3"
    },
    "language_info": {
      "name": "python"
    }
  },
  "cells": [
    {
      "cell_type": "markdown",
      "metadata": {
        "id": "view-in-github",
        "colab_type": "text"
      },
      "source": [
        "<a href=\"https://colab.research.google.com/github/cultur3-t3ch/py1/blob/main/Actividad_Unidad1_UribeSalgadoMeztliYaxem.ipynb\" target=\"_parent\"><img src=\"https://colab.research.google.com/assets/colab-badge.svg\" alt=\"Open In Colab\"/></a>"
      ]
    },
    {
      "cell_type": "code",
      "execution_count": null,
      "metadata": {
        "id": "4uuzWDN7QWYX"
      },
      "outputs": [],
      "source": [
        "#Meztli Yaxem Uribe Salgado   27/06/2025"
      ]
    },
    {
      "cell_type": "code",
      "source": [
        "#Escribe un programa que lea un número y determine si es múltiplo de 6\n",
        "\n",
        "num = int(input(\"Introduce un número entero: \"))\n",
        "\n",
        "\n",
        "if num % 6 == 0:\n",
        "    print(num, \"es un múltiplo de 6\")\n",
        "else:\n",
        "    print(\"no es múltiplo de 6\")"
      ],
      "metadata": {
        "colab": {
          "base_uri": "https://localhost:8080/"
        },
        "id": "c304IBkVZGWM",
        "outputId": "b5a55a76-9c18-48da-c7ac-a8973cd467d3"
      },
      "execution_count": 1,
      "outputs": [
        {
          "output_type": "stream",
          "name": "stdout",
          "text": [
            "Introduce un número entero: 1588\n",
            "no es múltiplo de 6\n"
          ]
        }
      ]
    },
    {
      "cell_type": "code",
      "source": [
        "#Lee los tres lados de un triángulo rectángulo, determina\n",
        "\n",
        "lado1 = float(input(\"Introduce el primer lado del triángulo: \"))\n",
        "lado2 = float(input(\"Introduce el segundo lado del triángulo: \"))\n",
        "lado3 = float(input(\"Introduce el tercer lado del triángulo: \"))\n",
        "\n",
        "#// si corresponden (por Pitágoras) y en caso afirmativo calcula el área\n",
        "\n",
        "\n",
        "if lado1**2 + lado2**2 == lado3**2 or lado1**2 + lado3**2 == lado2**2 or lado2**2 + lado3**2 == lado1**2:\n",
        "    print(\"Los lados corresponden a un triángulo rectángulo\")\n",
        "else\n",
        "    print(\"Los lados no corresponden a un triángulo rectángulo\")\n",
        "\n",
        "    area = (lado1 * lado2) / 2\n",
        "    print(\"El triángulo es rectángulo y su área es:\", area)"
      ],
      "metadata": {
        "colab": {
          "base_uri": "https://localhost:8080/"
        },
        "id": "iqzmhXBlZYPU",
        "outputId": "e1132f80-ba99-4602-dcf1-a6a34a5101e5"
      },
      "execution_count": 18,
      "outputs": [
        {
          "output_type": "stream",
          "name": "stdout",
          "text": [
            "Introduce el primer lado del triángulo: 6\n",
            "Introduce el segundo lado del triángulo: 8\n",
            "Introduce el tercer lado del triángulo: 10\n",
            "Los lados corresponden a un triángulo rectángulo\n",
            "El triángulo es rectángulo y su área es: 24.0\n"
          ]
        }
      ]
    },
    {
      "cell_type": "code",
      "source": [
        "#Crea un programa que sume la serie de números 3, 6, 9 hasta 99 y despliega el resultado final de la suma.\n",
        "\n",
        "x = 3\n",
        "\n",
        "suma = 0\n",
        "while x <= 99:\n",
        "    suma = suma + x\n",
        "    x += 3\n",
        "\n",
        "print(\"La suma de 3 en 3 hasta 99 es:\", suma)"
      ],
      "metadata": {
        "id": "L2TEXsnjarys",
        "colab": {
          "base_uri": "https://localhost:8080/"
        },
        "outputId": "09be3679-9949-4af6-dad6-52efaece179a"
      },
      "execution_count": 2,
      "outputs": [
        {
          "output_type": "stream",
          "name": "stdout",
          "text": [
            "La suma de 3 en 3 hasta 99 es: 1683\n"
          ]
        }
      ]
    },
    {
      "cell_type": "code",
      "source": [
        "#Calcula el promedio de una N cantidad de alumnos con cierta N cantidad de materias.\n",
        "\n",
        "num_alumnos = int(input(\"Introduce el número de alumnos: \"))\n",
        "num_materias = int(input(\"Introduce el número de materias: \"))\n",
        "\n",
        "suma_total_promedios = 0\n",
        "\n",
        "for alumno in range(1, num_alumnos + 1):\n",
        "    print(f\"\\nAlumno {alumno}:\")\n",
        "    suma_calificaciones = 0\n",
        "\n",
        "    for materia in range(1, num_materias + 1):\n",
        "        while True:\n",
        "            try:\n",
        "                calificacion = float(input(f\"  Calificación de la materia {materia}: \"))\n",
        "                if 0 <= calificacion <= 10:\n",
        "                    break\n",
        "                else:\n",
        "                    print(\"La calificación debe estar entre 0 y 10.\")\n",
        "            except ValueError:\n",
        "                print(\"Ingresa un número válido.\")\n",
        "\n",
        "        suma_calificaciones += calificacion\n",
        "\n",
        "    promedio = suma_calificaciones / num_materias\n",
        "    suma_total_promedios += promedio\n",
        "    print(f\"Promedio del alumno {alumno}: {promedio:.2f}\")\n",
        "\n",
        "# Cálculo del promedio general del grupo\n",
        "promedio_general = suma_total_promedios / num_alumnos\n",
        "print(f\"\\n Promedio general del grupo: {promedio_general:.2f}\")\n",
        "\n"
      ],
      "metadata": {
        "id": "9-bSLt1-a2l6",
        "colab": {
          "base_uri": "https://localhost:8080/"
        },
        "outputId": "84e9e192-6021-4050-8abb-d6aa7708fa8c"
      },
      "execution_count": 20,
      "outputs": [
        {
          "output_type": "stream",
          "name": "stdout",
          "text": [
            "Introduce el número de alumnos: 2\n",
            "Introduce el número de materias: 3\n",
            "\n",
            "Alumno 1:\n",
            "  Calificación de la materia 1: 10\n",
            "  Calificación de la materia 2: 9\n",
            "  Calificación de la materia 3: 10\n",
            "Promedio del alumno 1: 9.67\n",
            "\n",
            "Alumno 2:\n",
            "  Calificación de la materia 1: 9\n",
            "  Calificación de la materia 2: 8\n",
            "  Calificación de la materia 3: 10\n",
            "Promedio del alumno 2: 9.00\n",
            "\n",
            " Promedio general del grupo: 9.33\n"
          ]
        }
      ]
    }
  ]
}